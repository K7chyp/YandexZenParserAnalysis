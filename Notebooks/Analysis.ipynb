{
 "cells": [
  {
   "cell_type": "code",
   "execution_count": 5,
   "metadata": {},
   "outputs": [],
   "source": [
    "import pandas as pd \n",
    "import numpy as np \n",
    "import sys \n",
    "sys.path.append('/home/jovyan/Preprocessing')\n",
    "sys.path.append('/home/jovyan/Models')"
   ]
  },
  {
   "cell_type": "code",
   "execution_count": 2,
   "metadata": {},
   "outputs": [],
   "source": [
    "output = pd.read_csv('/home/jovyan/Parser/output.csv')"
   ]
  },
  {
   "cell_type": "code",
   "execution_count": 3,
   "metadata": {},
   "outputs": [],
   "source": [
    "from TextPreprocessing import TextPreprocessing"
   ]
  },
  {
   "cell_type": "code",
   "execution_count": 7,
   "metadata": {},
   "outputs": [],
   "source": [
    "df = TextPreprocessing(output).df.copy()"
   ]
  },
  {
   "cell_type": "code",
   "execution_count": 8,
   "metadata": {},
   "outputs": [
    {
     "data": {
      "text/html": [
       "<div>\n",
       "<table border=\"1\" class=\"dataframe\">\n",
       "  <thead>\n",
       "    <tr style=\"text-align: right;\">\n",
       "      <th></th>\n",
       "      <th>short_article_name</th>\n",
       "      <th>article</th>\n",
       "      <th>author</th>\n",
       "      <th>publish_date</th>\n",
       "      <th>href</th>\n",
       "      <th>text</th>\n",
       "    </tr>\n",
       "  </thead>\n",
       "  <tbody>\n",
       "    <tr>\n",
       "      <th>0</th>\n",
       "      <td>Не все водители знают как правильно измерять у...</td>\n",
       "      <td>Вопрос об уровне масла, возникает у каждого вт...</td>\n",
       "      <td>Накачанные колёса</td>\n",
       "      <td>29 April</td>\n",
       "      <td>https://zen.yandex.ru/media/nk_kolesa/ne-vse-v...</td>\n",
       "      <td>водитель знать правильно измерять уровень масл...</td>\n",
       "    </tr>\n",
       "    <tr>\n",
       "      <th>1</th>\n",
       "      <td>«Мне говорили, что это трудные ленивые дети»: ...</td>\n",
       "      <td>СКОПИРОВАТЬ ССЫЛКУАльберт Феррер родился и выр...</td>\n",
       "      <td>NaN</td>\n",
       "      <td>NaN</td>\n",
       "      <td>https://mel.fm/uchitelya/7435201-spanish_teach...</td>\n",
       "      <td>говорить трудный ленивый ребенок испанский учи...</td>\n",
       "    </tr>\n",
       "    <tr>\n",
       "      <th>2</th>\n",
       "      <td>«Я променял свои медали на постель с тобой». Б...</td>\n",
       "      <td>...</td>\n",
       "      <td>NaN</td>\n",
       "      <td>NaN</td>\n",
       "      <td>https://www.sports.ru/tribuna/blogs/figureice/...</td>\n",
       "      <td>променивать медаль постель бешеный сцена ревно...</td>\n",
       "    </tr>\n",
       "    <tr>\n",
       "      <th>3</th>\n",
       "      <td>«У Кирилла 340 матчей в КХЛ». В Америке ищут п...</td>\n",
       "      <td>Сейчас идут 6 из 13 событий  Сейчас идут 6 из...</td>\n",
       "      <td>NaN</td>\n",
       "      <td>NaN</td>\n",
       "      <td>https://www.championat.com/hockey/article-4330...</td>\n",
       "      <td>кирилл матч кхл америка искать повод оставлять...</td>\n",
       "    </tr>\n",
       "    <tr>\n",
       "      <th>4</th>\n",
       "      <td>Новый повод лишиться прав весной: ГИБДД запуст...</td>\n",
       "      <td>Подписка отключает баннерную рекламу на сайтах...</td>\n",
       "      <td>NaN</td>\n",
       "      <td>NaN</td>\n",
       "      <td>https://www.autonews.ru/news/607e99fa9a794719b...</td>\n",
       "      <td>новый повод лишаться право весна гибдд запуска...</td>\n",
       "    </tr>\n",
       "  </tbody>\n",
       "</table>\n",
       "</div>"
      ],
      "text/plain": [
       "                                  short_article_name  \\\n",
       "0  Не все водители знают как правильно измерять у...   \n",
       "1  «Мне говорили, что это трудные ленивые дети»: ...   \n",
       "2  «Я променял свои медали на постель с тобой». Б...   \n",
       "3  «У Кирилла 340 матчей в КХЛ». В Америке ищут п...   \n",
       "4  Новый повод лишиться прав весной: ГИБДД запуст...   \n",
       "\n",
       "                                             article             author  \\\n",
       "0  Вопрос об уровне масла, возникает у каждого вт...  Накачанные колёса   \n",
       "1  СКОПИРОВАТЬ ССЫЛКУАльберт Феррер родился и выр...                NaN   \n",
       "2                                                ...                NaN   \n",
       "3   Сейчас идут 6 из 13 событий  Сейчас идут 6 из...                NaN   \n",
       "4  Подписка отключает баннерную рекламу на сайтах...                NaN   \n",
       "\n",
       "  publish_date                                               href  \\\n",
       "0     29 April  https://zen.yandex.ru/media/nk_kolesa/ne-vse-v...   \n",
       "1          NaN  https://mel.fm/uchitelya/7435201-spanish_teach...   \n",
       "2          NaN  https://www.sports.ru/tribuna/blogs/figureice/...   \n",
       "3          NaN  https://www.championat.com/hockey/article-4330...   \n",
       "4          NaN  https://www.autonews.ru/news/607e99fa9a794719b...   \n",
       "\n",
       "                                                text  \n",
       "0  водитель знать правильно измерять уровень масл...  \n",
       "1  говорить трудный ленивый ребенок испанский учи...  \n",
       "2  променивать медаль постель бешеный сцена ревно...  \n",
       "3  кирилл матч кхл америка искать повод оставлять...  \n",
       "4  новый повод лишаться право весна гибдд запуска...  "
      ]
     },
     "execution_count": 8,
     "metadata": {},
     "output_type": "execute_result"
    }
   ],
   "source": [
    "df.head()"
   ]
  },
  {
   "cell_type": "code",
   "execution_count": 9,
   "metadata": {},
   "outputs": [
    {
     "ename": "ModuleNotFoundError",
     "evalue": "No module named 'gensim'",
     "output_type": "error",
     "traceback": [
      "\u001b[0;31m---------------------------------------------------------------------------\u001b[0m",
      "\u001b[0;31mModuleNotFoundError\u001b[0m                       Traceback (most recent call last)",
      "\u001b[0;32m<ipython-input-9-71770a484a38>\u001b[0m in \u001b[0;36m<module>\u001b[0;34m()\u001b[0m\n\u001b[0;32m----> 1\u001b[0;31m \u001b[0;32mfrom\u001b[0m \u001b[0mWordCloudModel\u001b[0m \u001b[0;32mimport\u001b[0m \u001b[0mWordCloudModel\u001b[0m\u001b[0;34m\u001b[0m\u001b[0m\n\u001b[0m\u001b[1;32m      2\u001b[0m \u001b[0;34m\u001b[0m\u001b[0m\n\u001b[1;32m      3\u001b[0m \u001b[0mWordCloudModel\u001b[0m\u001b[0;34m(\u001b[0m\u001b[0mdf\u001b[0m\u001b[0;34m,\u001b[0m \u001b[0;34m'text'\u001b[0m\u001b[0;34m)\u001b[0m\u001b[0;34m\u001b[0m\u001b[0m\n",
      "\u001b[0;32m~/Models/WordCloudModel.py\u001b[0m in \u001b[0;36m<module>\u001b[0;34m()\u001b[0m\n\u001b[1;32m      1\u001b[0m \u001b[0;32mimport\u001b[0m \u001b[0mnumpy\u001b[0m \u001b[0;32mas\u001b[0m \u001b[0mnp\u001b[0m\u001b[0;34m\u001b[0m\u001b[0m\n\u001b[0;32m----> 2\u001b[0;31m \u001b[0;32mfrom\u001b[0m \u001b[0mgensim\u001b[0m \u001b[0;32mimport\u001b[0m \u001b[0mmodels\u001b[0m\u001b[0;34m\u001b[0m\u001b[0m\n\u001b[0m\u001b[1;32m      3\u001b[0m \u001b[0;32mfrom\u001b[0m \u001b[0mgensim\u001b[0m \u001b[0;32mimport\u001b[0m \u001b[0mcorpora\u001b[0m\u001b[0;34m\u001b[0m\u001b[0m\n\u001b[1;32m      4\u001b[0m \u001b[0;32mfrom\u001b[0m \u001b[0mwordcloud\u001b[0m \u001b[0;32mimport\u001b[0m \u001b[0mWordCloud\u001b[0m\u001b[0;34m\u001b[0m\u001b[0m\n\u001b[1;32m      5\u001b[0m \u001b[0;32mimport\u001b[0m \u001b[0mmatplotlib\u001b[0m\u001b[0;34m.\u001b[0m\u001b[0mpyplot\u001b[0m \u001b[0;32mas\u001b[0m \u001b[0mplt\u001b[0m\u001b[0;34m\u001b[0m\u001b[0m\n",
      "\u001b[0;31mModuleNotFoundError\u001b[0m: No module named 'gensim'"
     ]
    }
   ],
   "source": [
    "from WordCloudModel import WordCloudModel\n",
    "\n",
    "WordCloudModel(df, 'text')"
   ]
  },
  {
   "cell_type": "code",
   "execution_count": null,
   "metadata": {},
   "outputs": [],
   "source": []
  }
 ],
 "metadata": {
  "kernelspec": {
   "display_name": "Python 3",
   "language": "python",
   "name": "python3"
  },
  "language_info": {
   "codemirror_mode": {
    "name": "ipython",
    "version": 3
   },
   "file_extension": ".py",
   "mimetype": "text/x-python",
   "name": "python",
   "nbconvert_exporter": "python",
   "pygments_lexer": "ipython3",
   "version": "3.6.3"
  }
 },
 "nbformat": 4,
 "nbformat_minor": 2
}
